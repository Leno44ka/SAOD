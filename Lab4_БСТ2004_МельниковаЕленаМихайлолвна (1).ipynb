{
 "cells": [
  {
   "cell_type": "markdown",
   "id": "bc7a7d08",
   "metadata": {},
   "source": [
    "# Лабораторная работа №4\n",
    "## Выполнила студентка группы БСТ2004 Мельникова Елена Михайловна"
   ]
  },
  {
   "cell_type": "markdown",
   "id": "90d73f21",
   "metadata": {},
   "source": [
    "Реализовать следующие структуры данных:\n",
    "  \n",
    "● <b> Стек (stack): </b>  \n",
    "Операции для стека: \n",
    "<i> инициализация, проверка на пустоту, добавление нового элемента в начало, извлечение элемента из начала;  </i>  \n",
    "  \n",
    "● <b> Дек (двусторонняя очередь, deque):  </b>  \n",
    "Операции для дека: \n",
    "<i> инициализация, проверка на пустоту, добавление нового элемента в начало, добавление нового элемента в конец, извлечение элемента из начала, извлечение элемента из конца. </i>  \n",
    "  \n",
    "<i> Разработать программу обработки данных, содержащихся в заранее подготовленном txt-файле, в соответствии с заданиями, применив указанную в задании структуру данных. Результат работы программы вывести на экран и сохранить в отдельном txt-файле. </i>"
   ]
  },
  {
   "cell_type": "markdown",
   "id": "3bc26fc0",
   "metadata": {},
   "source": [
    "### Стек"
   ]
  },
  {
   "cell_type": "code",
   "execution_count": 2,
   "id": "e3dca49f",
   "metadata": {},
   "outputs": [],
   "source": [
    "class stack:\n",
    "    #инициализация\n",
    "    def __init__(self):\n",
    "        self.steks=list()\n",
    "        \n",
    "    #длина    \n",
    "    def __len__(self):\n",
    "        return len(self.steks)\n",
    "    \n",
    "    #проверка стека на пустоту\n",
    "    def testing_null(self):\n",
    "        return len(self.steks)==0\n",
    "        \n",
    "    # добавление элемента в стек\n",
    "    def add(self, el):\n",
    "        self.steks.append(el)\n",
    "        \n",
    "    #извлечение элемента из стека\n",
    "    def pop(self):\n",
    "        if self.testing_null():\n",
    "            return None\n",
    "        else:\n",
    "            return self.steks.pop()\n",
    "        \n",
    "    #возвращает, без удаления\n",
    "    def peek(self):\n",
    "        if self.testing_null():\n",
    "            return None\n",
    "        else:\n",
    "            return self.steks[-1]\n",
    "        "
   ]
  },
  {
   "cell_type": "markdown",
   "id": "1988e322",
   "metadata": {},
   "source": [
    "### Дек"
   ]
  },
  {
   "cell_type": "code",
   "execution_count": 3,
   "id": "920e4b3e",
   "metadata": {},
   "outputs": [],
   "source": [
    "class deque:\n",
    "    \n",
    "     #инициализация\n",
    "    def __init__(self):\n",
    "        self.deks=list()\n",
    "        \n",
    "    #проверка дека на пустоту\n",
    "    def testing_null(self):\n",
    "        return len(self.deks)==0\n",
    "        \n",
    "    #добавление в начало дека\n",
    "    def addL(self, el):\n",
    "        self.deks.insert(0, el)\n",
    "        \n",
    "    #добавление в конец дека\n",
    "    def addR(self, el):\n",
    "        self.deks.append(el)\n",
    "        \n",
    "    #извлечение элемента из конца дека \n",
    "    def popL(self):\n",
    "        if self.testing_null():\n",
    "            return None\n",
    "        else:\n",
    "            return self.deks.pop(0)\n",
    "    \n",
    "    #извлечение элемента из конца дека\n",
    "    def popR(self):\n",
    "        if self.testing_null():\n",
    "            return None\n",
    "        else:\n",
    "            return self.deks.pop()\n",
    "        \n",
    "    #извлечение элемента из начала дека   \n",
    "    def peekL(self):\n",
    "        if self.testing_null():\n",
    "            return None\n",
    "        else:\n",
    "            return self.deks[0]\n",
    "        \n",
    "    #извлечение элемента из конца дека без уд\n",
    "    def peekR(self):\n",
    "        if self.testing_null():\n",
    "            return None\n",
    "        else:\n",
    "            return self.deks[-1]\n",
    "        \n",
    "    "
   ]
  },
  {
   "cell_type": "code",
   "execution_count": 4,
   "id": "77f733d8",
   "metadata": {},
   "outputs": [],
   "source": [
    "import copy\n",
    "import codecs\n",
    "\n",
    "# Вывод из файла в стек\n",
    "def add_with_stack(file):\n",
    "    st=stack()\n",
    "    try:\n",
    "        f=open(file,'r')\n",
    "        t=f.readlines()\n",
    "        f.close()\n",
    "        for i in range(len(t)):\n",
    "            st.add(t[i])\n",
    "        return st\n",
    "    except:\n",
    "        print(\"Не удалось найти файл\")\n",
    "\n",
    "        \n",
    "# Вывод файла в переменную типа string\n",
    "def add_with_str(file):\n",
    "    rez=\"\"\n",
    "    try:\n",
    "        f=codecs.open(file+'.txt', encoding='utf-8')\n",
    "        t=f.readlines()\n",
    "        f.close()\n",
    "        for i in range(len(t)):\n",
    "            rez=rez+t[i]\n",
    "        return rez\n",
    "    except:\n",
    "        print(\"Не удалось найти файл\")\n",
    "        \n",
    "# Вывод из файла в дек\n",
    "def add_with_deque(file):\n",
    "    st=deque()\n",
    "    try:\n",
    "        f=open(file,'r')\n",
    "        t=f.readlines()\n",
    "        f.close()\n",
    "        for i in range(len(t)):\n",
    "            st.addL(t[i])\n",
    "        return st\n",
    "    except:\n",
    "        print(\"Не удалось найти файл\")\n",
    "\n",
    "# Запись из дека в файл\n",
    "def add_file(file, deque):\n",
    "    try:\n",
    "        f=open(file,\"w\", encoding=\"utf-8\")\n",
    "        while not deque.testing_null():\n",
    "            f.write(deque.popL())\n",
    "        f.close()\n",
    "    except:\n",
    "        print(\"Ошибка\")\n",
    "        return None\n",
    "    \n",
    "# Запись из стека в файл\n",
    "def add_file_stek(file, stack):\n",
    "    try:\n",
    "        f=open(file,\"w\", encoding=\"utf-8\")\n",
    "        while not stack.testing_null():\n",
    "            f.write(stack.pop())\n",
    "        f.close()\n",
    "    except:\n",
    "        print(\"Ошибка\")\n",
    "        return None\n",
    "\n",
    "\n",
    "# Ввод из переменной в файл\n",
    "def add_file_str(file, text):\n",
    "    try:\n",
    "        f=open(file+'.txt',\"w\", encoding=\"utf-8\")\n",
    "        f.write(text)\n",
    "        f.close()\n",
    "    except:\n",
    "        print(\"Ошибка\")\n",
    "        return None"
   ]
  },
  {
   "cell_type": "markdown",
   "id": "dfaeb2b4",
   "metadata": {},
   "source": [
    "### Задание №1\n",
    "Отсортировать строки файла, содержащие названия книг, в алфавитном порядке с использованием двух деков."
   ]
  },
  {
   "cell_type": "code",
   "execution_count": 64,
   "id": "2ea9e601",
   "metadata": {},
   "outputs": [
    {
     "name": "stdout",
     "output_type": "stream",
     "text": [
      "Введите название исходного файла 1\n",
      "Введите название файла для записи  1out\n",
      "Cafe on the edge of the earth\n",
      "\n",
      "Humiliated and insulted\n",
      "\n",
      "Lolita\n",
      "\n",
      "Nose\n",
      "\n",
      "Snapper\n",
      "The Little Prince\n",
      "\n",
      "The subconscious mind can do everything\n",
      "\n"
     ]
    }
   ],
   "source": [
    "def one(file_res, file_rezult):\n",
    "    st1=add_with_deque(file_res)\n",
    "    if st1==None:\n",
    "        return\n",
    "    st2=deque()\n",
    "    while not st1.testing_null():\n",
    "        el=st1.popL()\n",
    "        while not st2.testing_null() and st2.peekL()<el:\n",
    "            st1.addR(st2.popL())\n",
    "        st2.addL(el)\n",
    "    \n",
    "    add_file(file_rezult, copy.deepcopy(st2))\n",
    "    return st2\n",
    "            \n",
    "file1=input(\"Введите название исходного файла \")\n",
    "file2=input(\"Введите название файла для записи  \")\n",
    "r=one(file1+'.txt', file2+'.txt')\n",
    "if r is not None:\n",
    "    while not r.testing_null():\n",
    "        print(r.popL())"
   ]
  },
  {
   "cell_type": "markdown",
   "id": "c9a78f1a",
   "metadata": {},
   "source": [
    "### Задание №2\n",
    "Дек содержит последовательность символов для шифровки сообщений. Дан текстовый файл, содержащий зашифрованное сообщение. Пользуясь деком, расшифровать текст. \n",
    "Известно, что при шифровке каждый символ сообщения заменялся следующим за ним в деке по часовой стрелке через один."
   ]
  },
  {
   "cell_type": "code",
   "execution_count": 12,
   "id": "6ac86b8c",
   "metadata": {},
   "outputs": [],
   "source": [
    "import random"
   ]
  },
  {
   "cell_type": "code",
   "execution_count": 15,
   "id": "e8cf33af",
   "metadata": {},
   "outputs": [],
   "source": [
    "def shifr():\n",
    "    alphabet = list('абвгдеёжзийклмнопрстуфхцчшщъыьэюя')\n",
    "    random.shuffle(alphabet)\n",
    "    alphabet = ''.join(alphabet)\n",
    "    keyRing = deque()\n",
    "    for letter in alphabet:\n",
    "        keyRing.addR(letter)\n",
    "    return keyRing"
   ]
  },
  {
   "cell_type": "code",
   "execution_count": 16,
   "id": "48fcf38e",
   "metadata": {},
   "outputs": [],
   "source": [
    "# Зашифровываем сообщение из файла\n",
    "def encode(file, keyRing):\n",
    "    text=add_with_str(file)\n",
    "    if text is None:\n",
    "        return\n",
    "    encode_text=''\n",
    "    for i in range(len(text)):\n",
    "        t=text[i] \n",
    "        if t==\" \":\n",
    "            encode_text=encode_text+\" \"\n",
    "            continue\n",
    "        while not keyRing.testing_null():\n",
    "            key=keyRing.popL()\n",
    "            if key==t:\n",
    "                keyRing.addR(key)\n",
    "                r=keyRing.popL()\n",
    "                encode_text=encode_text+r\n",
    "                keyRing.addR(r)\n",
    "                break\n",
    "            keyRing.addR(key)\n",
    "    add_file_str('2_1', encode_text)\n",
    "\n",
    "def decode(file, keyRing):\n",
    "    encode_text=add_with_str(file)\n",
    "    if encode_text is None:\n",
    "        return\n",
    "    decode_text=''\n",
    "    for i in range(len(encode_text)):\n",
    "        enc=encode_text[i]\n",
    "        if enc==\" \":\n",
    "            decode_text=decode_text+\" \"\n",
    "            continue\n",
    "        while not keyRing.testing_null():\n",
    "            key=keyRing.popR()\n",
    "            if key==enc:\n",
    "                keyRing.addL(key)\n",
    "                r=keyRing.popR()\n",
    "                decode_text=decode_text+r\n",
    "                keyRing.addL(r)\n",
    "                break\n",
    "            keyRing.addL(key)\n",
    "    \n",
    "    add_file_str('2_2', decode_text)\n",
    "\n",
    "    \n",
    "keyR=shifr() #создаем кодировку\n",
    "\n",
    "encode('2', keyR)\n",
    "decode('2_1', keyR)"
   ]
  },
  {
   "cell_type": "markdown",
   "id": "df60e683",
   "metadata": {},
   "source": [
    "### Задание №3\n",
    "Даны три стержня и n дисков различного размера. Диски можно надевать на стержни, образуя из них башни. Перенести n дисков со стержня А на стержень С, сохранив их первоначальный порядок. При переносе дисков необходимо соблюдать следующие правила:\n",
    "- на каждом шаге со стержня на стержень переносить только один диск;\n",
    "- диск нельзя помещать на диск меньшего размера;\n",
    "- для промежуточного хранения можно использовать стержень В.\n",
    "Реализовать алгоритм, используя три стека вместо стержней А, В, С. Информация о дисках хранится в исходном файле."
   ]
  },
  {
   "cell_type": "code",
   "execution_count": 5,
   "id": "ca2a6a24",
   "metadata": {},
   "outputs": [
    {
     "name": "stdout",
     "output_type": "stream",
     "text": [
      "7\n",
      "6\n",
      "5\n",
      "4\n",
      "3\n",
      "2\n",
      "1\n",
      "\n",
      "0 0 7\n",
      "\n",
      "    1\n",
      "    2\n",
      "    3\n",
      "    4\n",
      "    5\n",
      "    6\n",
      "    7\n"
     ]
    }
   ],
   "source": [
    "def move(a,b):\n",
    "    if a.testing_null() and not b.testing_null():\n",
    "        a.add(b.pop())\n",
    "    elif  not a.testing_null() and b.testing_null():\n",
    "        b.add(a.pop())\n",
    "    elif a.testing_null() and b.testing_null():\n",
    "        return\n",
    "    elif a.peek()>b.peek():\n",
    "        a.add(b.pop())\n",
    "    else:\n",
    "        b.add(int(a.pop()))\n",
    "        \n",
    "def three(file):\n",
    "    A=stack()\n",
    "    B=stack()\n",
    "    C=stack()\n",
    "    st=add_with_str(file)\n",
    "    if st is None:\n",
    "        return\n",
    "    disk=st.split(\" \")\n",
    "    for i in range(len(disk)):\n",
    "        print(disk[i])\n",
    "        A.add(int(disk[i])) \n",
    "    if len(disk)%2==0:\n",
    "        while len(C) is not len(disk):\n",
    "            move(A, B)\n",
    "            move(A, C)\n",
    "            if len(C) is not len(disk):\n",
    "                move(B, C)\n",
    "    else:\n",
    "        while len(C) is not len(disk):\n",
    "            move(A, C)\n",
    "            move(A, B)\n",
    "            if len(C) is not len(disk):\n",
    "                move(B, C)\n",
    "                \n",
    "    print()\n",
    "    print(len(A), len(B), len(C))\n",
    "    print()\n",
    "    for i in range(len(C)):\n",
    "            print(\" \", \" \", C.pop())\n",
    "    \n",
    "    \n",
    "three('3')"
   ]
  },
  {
   "cell_type": "markdown",
   "id": "2881b6ea",
   "metadata": {},
   "source": [
    "### Задание №4\n",
    "Дан текстовый файл с программой на алгоритмическом языке. За один просмотр файла проверить баланс круглых скобок в тексте, используя стек."
   ]
  },
  {
   "cell_type": "code",
   "execution_count": 65,
   "id": "f080eaed",
   "metadata": {},
   "outputs": [
    {
     "name": "stdout",
     "output_type": "stream",
     "text": [
      "False\n"
     ]
    }
   ],
   "source": [
    "def four(file):\n",
    "    s=stack()\n",
    "    st=add_with_str(file)\n",
    "    if st is None:\n",
    "        return\n",
    "    for i in st:\n",
    "        if i=='(':\n",
    "            s.add(i)\n",
    "        elif i==')':\n",
    "            if s.testing_null():\n",
    "                return False\n",
    "            s.pop()\n",
    "    return s.testing_null()\n",
    "print(four('4'))"
   ]
  },
  {
   "cell_type": "markdown",
   "id": "680d6d45",
   "metadata": {},
   "source": [
    "### Задание №5\n",
    "Дан текстовый файл с программой на алгоритмическом языке. За один просмотр файла проверить баланс квадратных скобок в тексте, используя дек."
   ]
  },
  {
   "cell_type": "code",
   "execution_count": 9,
   "id": "3bef7c8c",
   "metadata": {},
   "outputs": [
    {
     "name": "stdout",
     "output_type": "stream",
     "text": [
      "True\n"
     ]
    }
   ],
   "source": [
    "def five(file):\n",
    "    s=deque()\n",
    "    st=add_with_str(file)\n",
    "    if st is None:\n",
    "        return\n",
    "    for i in st:\n",
    "        if i=='[':\n",
    "            s.addR(i)\n",
    "        elif i==']':\n",
    "            if s.testing_null():\n",
    "                return False\n",
    "            s.popR()\n",
    "    return s.testing_null()\n",
    "print(five('5'))"
   ]
  },
  {
   "cell_type": "markdown",
   "id": "149734ba",
   "metadata": {},
   "source": [
    "### Задание №6\n",
    "Дан файл из символов. Используя стек, за один просмотр файла напечатать сначала все цифры, затем все буквы, и, наконец, все остальные символы, сохраняя исходный порядок в каждой группе символов."
   ]
  },
  {
   "cell_type": "code",
   "execution_count": 67,
   "id": "4d034723",
   "metadata": {},
   "outputs": [
    {
     "name": "stdout",
     "output_type": "stream",
     "text": [
      "Цифры: \n",
      "19174524\n",
      "Буквы: \n",
      "греволюциивРоссииФевральскаяиОктябрьская\n",
      "Другие символы: \n",
      " .()!      \n",
      "\n"
     ]
    }
   ],
   "source": [
    "def six(file):\n",
    "    numbers=stack()\n",
    "    letters=stack()\n",
    "    other=stack()\n",
    "    st=add_with_str(file)\n",
    "    if st is None:\n",
    "        return\n",
    "    i=len(st)-1\n",
    "    while i>=0:\n",
    "        if st[i].isalpha():\n",
    "            letters.add(st[i])\n",
    "        elif st[i].isdigit():\n",
    "            numbers.add(st[i])\n",
    "        else:\n",
    "            other.add(st[i])\n",
    "        i=i-1\n",
    "    print(\"Цифры: \")\n",
    "    d=\"\"\n",
    "    while not numbers.testing_null():\n",
    "        d=d+numbers.pop()\n",
    "    print(d)\n",
    "    d=\"\"\n",
    "    print(\"Буквы: \")\n",
    "    while not letters.testing_null():\n",
    "        d=d+letters.pop()\n",
    "    print(d)\n",
    "    d=\"\"\n",
    "    print(\"Другие символы: \")\n",
    "    while not other.testing_null():\n",
    "        d=d+other.pop()\n",
    "    print(d)\n",
    "six('6')"
   ]
  },
  {
   "cell_type": "markdown",
   "id": "2213a183",
   "metadata": {},
   "source": [
    "### Задание №7\n",
    "Дан файл из целых чисел. Используя дек, за один просмотр файла напечатать сначала все отрицательные числа, затем все положительные числа, сохраняя исходный порядок в каждой группе."
   ]
  },
  {
   "cell_type": "code",
   "execution_count": 23,
   "id": "42d7f13a",
   "metadata": {},
   "outputs": [
    {
     "name": "stdout",
     "output_type": "stream",
     "text": [
      "-5\n",
      "-6\n",
      "-9\n",
      "1\n",
      "2\n",
      "3\n",
      "7\n",
      "8\n"
     ]
    }
   ],
   "source": [
    "def seven(file):\n",
    "    rez=deque()\n",
    "    st=add_with_str(file)\n",
    "    if st is None:\n",
    "        return\n",
    "    mas=st.split(\" \")\n",
    "    mas_=list()\n",
    "    for i in mas:\n",
    "        mas_.append(int(i))\n",
    "    for i in mas_:\n",
    "        if int(i)>=0:\n",
    "            rez.addR(i)\n",
    "        else:\n",
    "            if rez.testing_null() or rez.peekL()>=0:\n",
    "                rez.addL(i)\n",
    "            else:\n",
    "                while rez.peekL()<0:\n",
    "                    rez.addR(rez.popL())\n",
    "                rez.addL(i)\n",
    "                while rez.peekR()<0:\n",
    "                    rez.addL(rez.popR())\n",
    "                \n",
    "    while not rez.testing_null():\n",
    "        print(rez.popL())\n",
    "seven('7')"
   ]
  },
  {
   "cell_type": "markdown",
   "id": "e13d1f04",
   "metadata": {},
   "source": [
    "### Задание №8\n",
    "Дан текстовый файл. Используя стек, сформировать новый текстовый файл, содержащий строки исходного файла, записанные в обратном порядке: первая строка становится последней, вторая – предпоследней и т.д."
   ]
  },
  {
   "cell_type": "code",
   "execution_count": 7,
   "id": "324f1a75",
   "metadata": {},
   "outputs": [],
   "source": [
    "def zadanie_8(file, file_rez):\n",
    "    stack=add_with_stek(file)\n",
    "    if stack is None:\n",
    "        return\n",
    "    add_file_stek(file_rez, stack)\n",
    "\n",
    "zadanie_8('8.txt','8out.txt')"
   ]
  }
 ],
 "metadata": {
  "kernelspec": {
   "display_name": "Python 3 (ipykernel)",
   "language": "python",
   "name": "python3"
  },
  "language_info": {
   "codemirror_mode": {
    "name": "ipython",
    "version": 3
   },
   "file_extension": ".py",
   "mimetype": "text/x-python",
   "name": "python",
   "nbconvert_exporter": "python",
   "pygments_lexer": "ipython3",
   "version": "3.9.7"
  }
 },
 "nbformat": 4,
 "nbformat_minor": 5
}
