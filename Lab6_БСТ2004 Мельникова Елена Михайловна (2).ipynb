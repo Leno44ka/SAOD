{
 "cells": [
  {
   "cell_type": "markdown",
   "metadata": {
    "id": "WPvB9TcMmKA6"
   },
   "source": [
    "# Лабораторная работа 6. \n",
    "# Сетевые алгоритмы. Динамические алгоритмы поиска путей.\n",
    "\n",
    "\n",
    "## Выполнила студентка группы БСТ2004 Мельникова Елена Михайловна\n"
   ]
  },
  {
   "cell_type": "markdown",
   "metadata": {},
   "source": [
    "### Задание\n",
    "\n",
    "1.  Реализовать алгоритм поиска кратчайшего расстояния между двумя вершинами ориентированного взвешенного графа в соответствии с вариантом. \n",
    "\n",
    "2.  Предусмотреть задание графа в виде матрицы смежности/инцидентности, читаемой из файла, либо графически с помощью пользовательского интерфейса. \n",
    "\n",
    "3.  Разработать графический интерфейс пользователя с визуализацией графа и отображением кратчайшего расстояния между задаваемыми пользователем вершинами.\n",
    "\n",
    "4. По результатам работы проанализировать временную сложность работы заданного алгоритма в зависимости от числа узлов и ребер графа.\n",
    "Данные представить в виде таблицы.\n",
    "\n"
   ]
  },
  {
   "cell_type": "markdown",
   "metadata": {},
   "source": [
    "### Варианты заданий:\n",
    "\n",
    "Вариант | Задание\n",
    ":-------- |:-----\n",
    "1, 7, 13, 19, 25 | Алгоритм Флойда-Уоршелла\n",
    "2, 8, 14, 20, 26 | Алгоритм Дейкстры\n",
    "3, 9,15,21,27 | Алгоритм Беллмана-Форда\n",
    "4, 10, 16, 22, 28 | Алгоритм Джонсона\n",
    "5, 11, 17, 23, 29| Алгоритм Левита\n",
    "6, 12, 18, 24, 30 | Алгоритм Йена\n",
    "\n"
   ]
  },
  {
   "cell_type": "markdown",
   "metadata": {},
   "source": [
    "### Библиотеки"
   ]
  },
  {
   "cell_type": "code",
   "execution_count": 15,
   "metadata": {},
   "outputs": [],
   "source": [
    "import networkx as nx\n",
    "import matplotlib.pyplot as plt\n",
    "import time"
   ]
  },
  {
   "cell_type": "markdown",
   "metadata": {},
   "source": [
    "### Алгоритм Белмана-Форда"
   ]
  },
  {
   "cell_type": "code",
   "execution_count": 32,
   "metadata": {},
   "outputs": [],
   "source": [
    "def shortest_path(nodes, edges, start_node):\n",
    "    num_node = len(nodes)\n",
    "    num_edge = len(edges)\n",
    "    distance, parent = [None] * num_node, [None] * num_node\n",
    "    distance[start_node] = 0\n",
    "    times, flag = 0, True\n",
    "\n",
    "    def slack(edge, distance, parent):\n",
    "        u, v, w = edge[0], edge[1], edge[2]\n",
    "        if distance[u] == None:\n",
    "            return False\n",
    "        elif distance[v] == None or distance[u]+w < distance[v]:\n",
    "            distance[v] = distance[u]+w\n",
    "            parent[v] = u\n",
    "            return True\n",
    "        return False\n",
    "            \n",
    "\n",
    "    while flag and times < num_node-1:\n",
    "        flag = False\n",
    "        for i in range(num_edge):\n",
    "            if slack(edges[i], distance, parent) and not flag:\n",
    "                flag = True\n",
    "        times += 1\n",
    "    return distance, parent\n",
    "\n",
    "def get_nodes_edges(parent, end_node):\n",
    "    nodes, edges = [], []\n",
    "    v = end_node\n",
    "    nodes.append(v)\n",
    "    while parent[end_node] != None:\n",
    "        u = parent[end_node]\n",
    "        nodes.append(u)\n",
    "        edges.append((u, v))\n",
    "        end_node = u\n",
    "        v = u\n",
    "    return nodes[::-1], edges[::-1]\n",
    "\n",
    "def all_nodes(matrix):           # Записывает все вершины в список\n",
    "    nodes = []\n",
    "    for i in range(len(matrix[0])):\n",
    "        nodes.append(i)\n",
    "    return nodes\n",
    "\n",
    "def all_edges(matrix):           # Записывает все рёбра в список с кортежами (первая вершина, вторая, вес)\n",
    "    edges = []\n",
    "    for i in range(len(matrix[0])):\n",
    "        for j in range(len(matrix[0])):\n",
    "            if matrix[i][j] != 0:\n",
    "                edges.append((i , j , matrix[i][j]))\n",
    "    return edges  \n",
    "\n",
    "\n",
    "def draw(DG, color_nodes, color_edges):\n",
    "    edges = list(DG.edges)\n",
    "    num_nodes = DG.number_of_nodes() \n",
    "    num_edges = DG.number_of_edges()\n",
    "    node_color = ['#ff9966'] * num_nodes \n",
    "    edge_color = ['#ff9966'] * num_edges \n",
    "\n",
    "    for i in color_nodes:\n",
    "        node_color[i] = '#333333'\n",
    "\n",
    "    for i in range(num_edges):\n",
    "        u, v = edges[i][0], edges[i][1]\n",
    "        if (u, v) in set(color_edges):\n",
    "            edge_color[i] = '#333333'\n",
    "            \n",
    "    pos = nx.circular_layout(DG)\n",
    "    nx.draw(DG, pos, with_labels=True, node_color=node_color, edge_color=edge_color, font_color='#ffffff') \n",
    "    edge_labels = nx.get_edge_attributes(DG, 'weight')\n",
    "    nx.draw_networkx_edge_labels(DG, pos, edge_labels=edge_labels) "
   ]
  },
  {
   "cell_type": "code",
   "execution_count": 36,
   "metadata": {
    "scrolled": false
   },
   "outputs": [
    {
     "name": "stdout",
     "output_type": "stream",
     "text": [
      "Введите начало:\n",
      "1\n",
      "Введите конец:\n",
      "4\n",
      "[1, 2, 4]\n",
      "Время выполнения:0.000396 сек\n"
     ]
    },
    {
     "data": {
      "image/png": "[encoded data removed]",
      "text/plain": [
       "<Figure size 432x288 with 1 Axes>"
      ]
     },
     "metadata": {},
     "output_type": "display_data"
    }
   ],
   "source": [
    "file = open('matrix2.txt')\n",
    "matrix = [list(map(int, row.split())) for row in file.readlines()] # Читаем матрицу из файла \n",
    "nodes = all_nodes(matrix) #Вершины\n",
    "edges = all_edges(matrix) #Рёбра\n",
    "print('Введите начало:')\n",
    "start_node = int(input())\n",
    "print('Введите конец:')\n",
    "end_node = int(input())\n",
    "t = time.perf_counter()\n",
    "distance, parent = shortest_path(nodes, edges, start_node)\n",
    "# pass_nodes - кратчайший путь \n",
    "# pass_edges - кратчайший путь в виде саписка с котрежами \n",
    "pass_nodes, pass_edges = get_nodes_edges(parent, end_node)  \n",
    "time = 'Время выполнения' + ':{0:.6f} сек'.format((time.perf_counter() - t))\n",
    "print (pass_nodes) \n",
    "print(time)\n",
    "DG = nx.DiGraph()\n",
    "DG.add_nodes_from(nodes)\n",
    "DG.add_weighted_edges_from(edges)\n",
    "draw(DG, pass_nodes, pass_edges)"
   ]
  },
  {
   "cell_type": "markdown",
   "metadata": {},
   "source": [
    "Кол-во узлов | Время\n",
    ":--- |:-----\n",
    "3 | 0.000127\n",
    "4 | 0.000217\n",
    "5 | 0.000370\n",
    "6 | 0.000459\n"
   ]
  }
 ],
 "metadata": {
  "colab": {
   "collapsed_sections": [],
   "name": "Lab5.ipynb",
   "provenance": []
  },
  "kernelspec": {
   "display_name": "Python 3 (ipykernel)",
   "language": "python",
   "name": "python3"
  },
  "language_info": {
   "codemirror_mode": {
    "name": "ipython",
    "version": 3
   },
   "file_extension": ".py",
   "mimetype": "text/x-python",
   "name": "python",
   "nbconvert_exporter": "python",
   "pygments_lexer": "ipython3",
   "version": "3.9.7"
  }
 },
 "nbformat": 4,
 "nbformat_minor": 1
}
