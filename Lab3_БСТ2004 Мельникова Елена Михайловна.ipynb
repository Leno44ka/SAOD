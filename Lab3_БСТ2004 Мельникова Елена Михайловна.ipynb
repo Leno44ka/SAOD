{
 "cells": [
  {
   "cell_type": "markdown",
   "id": "1857d36f",
   "metadata": {},
   "source": [
    "# Лабораторная работа №3\n",
    "## Выполнила студентка группы БСТ2004 Мельникова Елена Михайловна\n",
    "### Задание №1"
   ]
  },
  {
   "cell_type": "markdown",
   "id": "68c7b485",
   "metadata": {},
   "source": [
    "#### Реализовать методы поиска подстроки в строке. Добавить возможность ввода строки и подстроки с клавиатуры. Предусмотреть возможность существования пробела. Реализовать возможность выбора опции чувствительности или нечувствительности к регистру. Оценить время работы каждого алгоритма поиска и сравнить его со временем работы стандартной функции поиска, используемой в выбранном языке программирования."
   ]
  },
  {
   "cell_type": "markdown",
   "id": "583adc21",
   "metadata": {},
   "source": [
    "### Подключение библиотек"
   ]
  },
  {
   "cell_type": "code",
   "execution_count": 2,
   "id": "e8f8a2ab",
   "metadata": {},
   "outputs": [],
   "source": [
    "# Необходим при замере скорости выполнения кода\n",
    "import time"
   ]
  },
  {
   "cell_type": "markdown",
   "id": "inclusive-motorcycle",
   "metadata": {},
   "source": [
    "### Задание №1\n",
    "Реализовать методы поиска подстроки в строке. Добавить возможность ввода строки и подстроки с клавиатуры. Предусмотреть возможность существования пробела. Реализовать возможность выбора опции чувствительности или нечувствительности к регистру. Оценить время работы каждого алгоритма поиска и сравнить его со временем работы стандартной функции поиска, используемой в выбранном языке программирования."
   ]
  },
  {
   "cell_type": "markdown",
   "id": "interracial-communication",
   "metadata": {},
   "source": [
    "#### Алгоритм Кнута-Морриса-Пратта"
   ]
  },
  {
   "cell_type": "code",
   "execution_count": 8,
   "id": "e7dbb299",
   "metadata": {},
   "outputs": [
    {
     "name": "stdout",
     "output_type": "stream",
     "text": [
      "Кнута-Морриса-Пратта\n",
      "Ввод строк: 0 - вручную; 1 - готовый пример. 1\n",
      "Поиск чувствителен к регистру? (0/1). 1\n",
      "Поиск чувствителен к пробелам? (0/1). 1\n",
      "Hello World! Goodbye world! wor\n",
      "21\n",
      "Время затраченное на поиск: \n",
      "0.00031447410583496094\n"
     ]
    }
   ],
   "source": [
    "def kmp_search(string, pattern, regsens, spcsens):\n",
    "    if not regsens:\n",
    "        string = string.lower()\n",
    "        pattern = pattern.lower()\n",
    "    if not spcsens:\n",
    "        string = string.replace(\" \", \"\")\n",
    "    j = 0 # Позиция рассматриваемого символа в string\n",
    "    k = 0 # Позиция рассматриваемого символа в pattern\n",
    "    while j < len(string):\n",
    "        if string[j] == pattern[k]:\n",
    "            j += 1\n",
    "            k += 1\n",
    "            if k == len(pattern):\n",
    "                return(j - k)\n",
    "        else:\n",
    "            k = 0\n",
    "            j += 1\n",
    "    return(None)\n",
    "            \n",
    "print(\"Кнута-Морриса-Пратта\")\n",
    "option = int(input(\"Ввод строк: 0 - вручную; 1 - готовый пример. \"))\n",
    "regsens = bool(int(input(\"Поиск чувствителен к регистру? (0/1). \")))\n",
    "spcsens = bool(int(input(\"Поиск чувствителен к пробелам? (0/1). \")))\n",
    "if option == 0:\n",
    "    string = input(\"Введите строку:\")\n",
    "    pattern = input(\"Введите искомую подстроку:\")\n",
    "if option == 1:\n",
    "    string = \"Hello World! Goodbye world!\"\n",
    "    pattern = \"wor\"\n",
    "print( string,  pattern)\n",
    "    \n",
    "import time\n",
    "print(kmp_search(string, pattern, regsens, spcsens))\n",
    "start = time.time()\n",
    "kmp_search(string, pattern, regsens, spcsens)\n",
    "print(\"Время затраченное на поиск: \")\n",
    "print(time.time() - start)"
   ]
  },
  {
   "cell_type": "markdown",
   "id": "downtown-option",
   "metadata": {},
   "source": [
    "# Упрощенный алгоритм Бойера-Мура"
   ]
  },
  {
   "cell_type": "code",
   "execution_count": 9,
   "id": "f5062577",
   "metadata": {},
   "outputs": [
    {
     "name": "stdout",
     "output_type": "stream",
     "text": [
      "Упрощенный алгоритм Бойера-Мура\n",
      "Ввод строк: 0 - вручную; 1 - готовый пример. 1\n",
      "Поиск чувствителен к регистру? (0/1). 1\n",
      "Поиск чувствителен к пробелам? (0/1). 1\n",
      "Hello World! Goodbye world! wor\n",
      "Найдено на символе:  21\n",
      "Время затраченное на поиск: \n",
      "0.0009949207305908203\n"
     ]
    }
   ],
   "source": [
    " def bm_search(string, pattern, regsens, spcsens):\n",
    "    if not regsens:\n",
    "        string = string.lower()\n",
    "        pattern = pattern.lower()\n",
    "    if not spcsens:\n",
    "        string = string.replace(\" \", \"\")\n",
    "    n = len(string)\n",
    "    m = len(pattern)\n",
    "    pos = [] # Позиции нужного слова\n",
    "    bound = 0\n",
    "    # Формируем таблицу суффиксов (смещения)\n",
    "    suffshift = [m for i in range(1105)]\n",
    "    for i in range(0, m-1):\n",
    "        suffshift[ord(pattern[i])] = m-i-1\n",
    "    # Поиск подстрок\n",
    "    # k - проход по string\n",
    "    # j - проход по pattern\n",
    "    # i - место начала прохода по s\n",
    "    i = m-1\n",
    "    j = k = i\n",
    "    while j >= 0 and i <= n-1:\n",
    "        j = m-1\n",
    "        k = i\n",
    "        while j >= 0 and string[k] == pattern[j]:\n",
    "            k -= 1\n",
    "            j -= 1\n",
    "        i += suffshift[ord(string[i])]\n",
    "    if j <= 0:# нашли\n",
    "        return(k+1)\n",
    "    return(None) # не нашли\n",
    "\n",
    "print(\"Упрощенный алгоритм Бойера-Мура\")\n",
    "option = int(input(\"Ввод строк: 0 - вручную; 1 - готовый пример. \"))\n",
    "regsens = bool(int(input(\"Поиск чувствителен к регистру? (0/1). \")))\n",
    "spcsens = bool(int(input(\"Поиск чувствителен к пробелам? (0/1). \")))\n",
    "if option == 0:\n",
    "    string = input(\"Введите строку:\")\n",
    "    pattern = input(\"Введите искомую подстроку:\")\n",
    "if option == 1:\n",
    "    string = \"Hello World! Goodbye world!\"\n",
    "    pattern = \"wor\"\n",
    "print(string, pattern)\n",
    "\n",
    "import time\n",
    "print(\"Найдено на символе: \", bm_search(string, pattern, regsens, spcsens))\n",
    "start = time.time()\n",
    "bm_search(string, pattern, regsens, spcsens)\n",
    "print(\"Время затраченное на поиск: \")\n",
    "print(time.time() - start)"
   ]
  },
  {
   "cell_type": "code",
   "execution_count": 27,
   "id": "eb3d0b99",
   "metadata": {},
   "outputs": [
    {
     "name": "stdout",
     "output_type": "stream",
     "text": [
      "Стандартный поиск\n",
      "Найдено на символе: 21\n",
      "Время затраченное на поиск: \n",
      "0.0009942054748535156\n"
     ]
    }
   ],
   "source": [
    "import time\n",
    "print(\"Стандартный поиск\")\n",
    "if not regsens:\n",
    "    string = string.lower()\n",
    "    pattern = pattern.lower()\n",
    "if not spcsens:\n",
    "    string = string.replace(\" \", \"\")\n",
    "start = time.time()\n",
    "print(\"Найдено на символе:\", string.find(pattern))\n",
    "print(\"Время затраченное на поиск: \")\n",
    "print(time.time() - start)"
   ]
  },
  {
   "cell_type": "markdown",
   "id": "hybrid-memorial",
   "metadata": {},
   "source": [
    "# Задание №2\n",
    "Написать программу, определяющую, является ли данное\n",
    "расположение «решаемым», то есть можно ли из него за конечное число\n",
    "шагов перейти к правильному. Если это возможно, то необходимо найти хотя\n",
    "бы одно решение - последовательность движений, после которой числа будут\n",
    "расположены в правильном порядке.\n",
    "#### Входные данные: массив чисел, представляющий собой расстановку в\n",
    "Порядке «слева направо, сверху вниз». Число 0 обозначает пустое поле.\n",
    "Например, массив [1, 2, 3, 4, 5, 6, 7, 8, 9, 10, 11, 12, 13, 14, 15, 0] представляет\n",
    "собой «решенную» позицию элементов.\n",
    "#### Выходные данные: если решения нет, то функция должна вернуть\n",
    "Пустой массив []. Если решение есть, то необходимо представить решение —\n",
    "для каждого шага записывается номер передвигаемого на данном шаге\n",
    "элемента. "
   ]
  },
  {
   "cell_type": "code",
   "execution_count": 33,
   "id": "d67c7f1a",
   "metadata": {},
   "outputs": [
    {
     "name": "stdout",
     "output_type": "stream",
     "text": [
      "Шаги решения:  [14, 7, 8, 2, 1, 14, 3, 15, 14, 3, 7, 8, 2, 1, 11, 6, 9, 10, 13, 9, 10, 14, 3, 11, 6, 5, 12, 4, 5, 12, 1, 2, 8, 7, 11, 3, 14, 10, 12, 6, 3, 12, 10, 14, 15, 11, 12, 3, 7, 12, 11, 15, 3, 11, 12, 8, 2, 7, 11, 3, 15, 12, 3, 11, 7, 2, 8, 3, 11, 7, 3, 8, 2, 3, 7, 10, 6, 1, 4, 5, 1, 6, 10, 7, 3, 4, 5, 1, 6, 5, 4, 3, 7, 11, 8, 7, 3, 4, 5, 3, 7, 2, 4, 5, 3, 7, 5, 3, 7, 5, 2, 8, 12, 15, 11, 10, 5, 7, 3, 2, 7, 5, 10, 11, 15, 12, 11, 10, 5, 6, 9, 5, 10, 11, 12, 15, 11, 7, 2, 3, 6, 2, 7, 10, 5, 9, 2, 5, 10, 11, 14, 10, 9, 2, 5, 6, 1, 5, 2, 9, 10, 14, 11, 10, 6, 2, 5, 1, 2, 6, 10, 11, 15]\n",
      "Время нахождения решения: \n",
      "2.1926558017730713\n"
     ]
    }
   ],
   "source": [
    "import queue\n",
    "import time\n",
    "\n",
    "# Инверсия - когда больший элемент стоит до меньшего элемента\n",
    "#Считаем для всех костяшек\n",
    "def count_inversions(array):\n",
    "    inversions = 0\n",
    "    size = len(array)\n",
    "    for i in range(0, size-1):\n",
    "        for j in range(i+1, size):\n",
    "            if array[i] > 0 and array[j] > 0:\n",
    "                if array[i] > array[j]:\n",
    "                    inversions += 1\n",
    "    return inversions\n",
    "\n",
    "# Для определения решаемы ли костяшки\n",
    "def is_solvable(array, m=4, n=4):\n",
    "    inversions = count_inversions(array)\n",
    "    size = len(array)\n",
    "    # В случае чётного количества костяшек смотрим, на какой строке снизу\n",
    "    #находится пустое место (последняя строка - нечётное, предпоследняя - чётное и т.д.\n",
    "    #для решаемости необходима разная чётность кол-ва инверсий и строки пустого места (чёт/нечёт)\n",
    "    if n*m%2==0:\n",
    "        for i in range(0, size):\n",
    "            if array[i] == 0:\n",
    "                if ((m-i//n)%2 == 1):\n",
    "                    return(inversions%2 == 0)\n",
    "                else:\n",
    "                    return(inversions%2 != 0)\n",
    "        return False\n",
    "    # В случае нечётного количества костяшек нужно, чтобы количество инверсий было чётно\n",
    "    if inversions%2==0:\n",
    "        return True\n",
    "    return False\n",
    "    \n",
    "# Класс состояния поля пятнашек\n",
    "class BoardState:\n",
    "    array = [] # Для хранения расположение костяшек\n",
    "    n = 4 # Размерность поля\n",
    "    m = 4\n",
    "    pos0 = 0 # Для хранения позиции пустого места\n",
    "    moves = [] # Для хранения необходимых перемещения для его достижения\n",
    "    \n",
    "    def __init__(self, array, n=4, m=4, pos0 = 15, moves=[]):\n",
    "        self.array = array\n",
    "        self.n = n\n",
    "        self.m = m\n",
    "        self.pos0 = pos0\n",
    "        self.moves = moves\n",
    "        \n",
    "    # Переопределение сравнения по стоимости (законченности поля)\n",
    "    def __lt__(self, other):\n",
    "        return self.get_total_mdistance() < other.get_total_mdistance()\n",
    "    def __le__(self, other):\n",
    "        return self.get_total_mdistance() <= other.get_total_mdistance()\n",
    "        \n",
    "    # Для проверки равенства игровых полей, проверяем размерность и костяшки\n",
    "    def equals(self, board):\n",
    "        return (self.n == board.n and self.m == board.m and self.array == board.array)\n",
    "    \n",
    "    # Для подсчёта костяшек вне позиции\n",
    "    def get_outofpos_count(self):\n",
    "        counter = 0\n",
    "        for i in range(0,len(self.array)):\n",
    "            # Если проверяем не пустое место и не совпадает позиция\n",
    "            if (self.array[i] != 0 and i+1 != self.array[i]):\n",
    "                counter += 1\n",
    "        return counter\n",
    "    \n",
    "    # Manhattan Distance - это расстояние на которое нужно передвинуть\n",
    "    #костяшку, чтобы она оказалась в позиции. В данном методе мы вычисляем\n",
    "    #сумму всех расстояний всех костяшек поля.\n",
    "    def get_total_mdistance(self):\n",
    "        distance = 0\n",
    "        for i in range(0,len(self.array)):\n",
    "            # Если проверяем не пустое место вычисляем расстояние\n",
    "            elem = self.array[i]\n",
    "            if elem != 0:\n",
    "                x = abs((elem-1)%self.n - i%self.n)\n",
    "                y = abs((elem-1)//self.n - i//self.n)\n",
    "                distance += x\n",
    "                distance += y\n",
    "                #print(\"DEBUG get_total_mdistance:\", elem-1, i, x, y)\n",
    "        return distance\n",
    "        \n",
    "    # Для возвращения нового состояния при передвижении костяшки\n",
    "    def get_moved_state(self, direction):\n",
    "        # Проверяем направление\n",
    "        moved_index = None\n",
    "        if direction == \"up\":\n",
    "            moved_index = self.pos0+self.n\n",
    "        if direction == \"down\":\n",
    "            moved_index = self.pos0-self.n\n",
    "        if direction == \"left\":\n",
    "            moved_index = self.pos0+1\n",
    "        if direction == \"right\":\n",
    "            moved_index = self.pos0-1  \n",
    "        # Если указано правильное направление\n",
    "        if moved_index != None:\n",
    "            # Добавление нового хода\n",
    "            new_moves = self.moves.copy()\n",
    "            new_moves.append(self.array[moved_index])\n",
    "            # Замена костяшки и пустого места\n",
    "            new_array = self.array.copy()\n",
    "            new_array[self.pos0] = new_array[moved_index]\n",
    "            new_array[moved_index] = 0\n",
    "            return BoardState(new_array, self.n, self.m, moved_index, new_moves)\n",
    "        else:\n",
    "            print(\"BoardState.get_moved_state(): Invalid direction, use up/down/left/right\\n\")\n",
    "            return 0 \n",
    "    \n",
    "def solve_astar(array, n=4, m=4, goal=[1,2,3,4,5,6,7,8,9,10,11,12,13,14,15,0]):\n",
    "    # Если нерешаемо, возвращаем пустой массив\n",
    "    if not is_solvable(array):\n",
    "        return \"[]\"\n",
    "    else:\n",
    "        # Создаём приоритетную очередь, для обработки состояний поля\n",
    "        pq = queue.PriorityQueue()\n",
    "        current_board = BoardState(array, n, m, array.index(0))\n",
    "        # Добавляем в очередь изначальное положение игрового поля\n",
    "        pq.put(current_board)\n",
    "        # Два массива для доступа к ещё необработанным и уже обработанным состояниям\n",
    "        open_boardstates = []\n",
    "        closed_boardstates = []\n",
    "        # Пока не найдём нужное поле\n",
    "        while current_board.array != goal and not pq.empty():\n",
    "            #print(\"DEBUG current_board:\", current_board.array)\n",
    "            closed_boardstates.append(current_board)\n",
    "            # Добавляем в очередь все возможные состояния достижимые из данного\n",
    "            if current_board.pos0//n != m-1:\n",
    "                next_board = current_board.get_moved_state(\"up\")\n",
    "                #print(\"DEBUG next_board_up:\", next_board.array)\n",
    "                if not any(x.array == next_board.array for x in closed_boardstates):\n",
    "                    pq.put(next_board)\n",
    "            if current_board.pos0//n != 0:\n",
    "                next_board = current_board.get_moved_state(\"down\")\n",
    "                #print(\"DEBUG next_board_down:\", next_board.array)\n",
    "                if not any(x.array == next_board.array for x in closed_boardstates):\n",
    "                    pq.put(next_board)\n",
    "            if current_board.pos0%n != n-1:\n",
    "                next_board = current_board.get_moved_state(\"left\")\n",
    "                #print(\"DEBUG next_board_left:\", next_board.array)\n",
    "                if not any(x.array == next_board.array for x in closed_boardstates):\n",
    "                    pq.put(next_board)\n",
    "            if current_board.pos0%n != 0:\n",
    "                next_board = current_board.get_moved_state(\"right\")\n",
    "                #print(\"DEBUG next_board_right:\", next_board.array)\n",
    "                if not any(x.array == next_board.array for x in closed_boardstates):\n",
    "                    pq.put(next_board)\n",
    "            current_board = pq.get()\n",
    "        if pq.empty():\n",
    "            print(\"Не найдено\")\n",
    "        return current_board.moves;\n",
    "\n",
    "\n",
    "start_time = time.time()\n",
    "moves = solve_astar([12, 5, 8, 7, 4, 11, 2, 14, 13, 6, 1, 0, 10, 9, 15, 3])\n",
    "print(\"Шаги решения: \", moves)\n",
    "print(\"Время нахождения решения: \")\n",
    "print(time.time() - start_time)"
   ]
  },
  {
   "cell_type": "code",
   "execution_count": 31,
   "id": "e5d43854",
   "metadata": {},
   "outputs": [
    {
     "name": "stdout",
     "output_type": "stream",
     "text": [
      "Шаги решения:  [2, 8, 1, 4, 3, 12, 13, 9, 5, 14, 15, 11, 8, 2, 4, 3, 12, 13, 9, 5, 14, 15, 11, 8, 2, 4, 3, 12, 10, 1, 12, 3, 4, 12, 7, 2, 8, 11, 15, 6, 2, 15, 6, 2, 1, 7, 15, 6, 2, 1, 7, 10, 3, 15, 6, 7, 5, 14, 1, 2, 11, 8, 12, 4, 15, 3, 10, 6, 3, 15, 4, 12, 8, 11, 7, 3, 6, 10, 13, 9, 14, 5, 10, 14, 9, 13, 14, 10, 3, 7, 11, 8, 7, 11, 2, 3, 10, 6, 11, 7, 8, 2, 3, 10, 6, 11, 12, 4, 15, 12, 11, 6, 10, 3, 2, 8, 4, 11, 12, 15, 11, 12, 6, 10, 3, 2, 8, 4, 7, 8, 2, 3, 10, 6, 8, 7, 12, 8, 6, 10, 3, 2, 7, 3, 10, 6, 8, 12, 3, 7, 4, 3, 12, 8, 6, 10, 7, 6, 8, 12, 3, 4, 6, 3, 12, 8, 3, 7, 2, 6, 7, 3, 8, 12, 3, 8, 12, 3, 8, 7, 6, 2, 7, 6, 4, 8, 3, 12, 6, 3, 8, 4, 3, 7, 10, 6, 15, 11, 12, 8, 7, 10, 6, 15, 10, 7, 8, 12, 11, 14, 15, 10, 12, 11, 14, 12, 11, 14, 12, 15, 10, 11, 14, 12, 15, 14, 11, 10, 14, 15]\n",
      "Время нахождения решения: \n",
      "2.6180834770202637\n"
     ]
    }
   ],
   "source": [
    "start_time = time.time()\n",
    "moves = solve_astar([9, 5, 14, 15, 13, 6, 7, 11, 12, 10, 8, 2, 3, 4, 1, 0])\n",
    "print(\"Шаги решения: \", moves)\n",
    "print(\"Время нахождения решения: \")\n",
    "print(time.time() - start_time)"
   ]
  },
  {
   "cell_type": "code",
   "execution_count": 30,
   "id": "ab42a67e",
   "metadata": {},
   "outputs": [
    {
     "name": "stdout",
     "output_type": "stream",
     "text": [
      "Шаги решения:  []\n",
      "Время нахождения решения: \n",
      "0.0008387565612792969\n"
     ]
    }
   ],
   "source": [
    "start_time = time.time()\n",
    "moves = solve_astar([1, 2, 3, 4, 5, 6, 7, 8, 9, 10, 11, 12, 13, 15, 14, 0])\n",
    "print(\"Шаги решения: \", moves)\n",
    "print(\"Время нахождения решения: \")\n",
    "print(time.time() - start_time)"
   ]
  }
 ],
 "metadata": {
  "kernelspec": {
   "display_name": "Python 3 (ipykernel)",
   "language": "python",
   "name": "python3"
  },
  "language_info": {
   "codemirror_mode": {
    "name": "ipython",
    "version": 3
   },
   "file_extension": ".py",
   "mimetype": "text/x-python",
   "name": "python",
   "nbconvert_exporter": "python",
   "pygments_lexer": "ipython3",
   "version": "3.9.7"
  }
 },
 "nbformat": 4,
 "nbformat_minor": 5
}
