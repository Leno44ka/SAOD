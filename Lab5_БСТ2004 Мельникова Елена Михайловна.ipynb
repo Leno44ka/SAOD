{
 "cells": [
  {
   "cell_type": "markdown",
   "metadata": {
    "id": "WPvB9TcMmKA6"
   },
   "source": [
    "# Лабораторная работа №5\n",
    "\n",
    "## Выполнила студентка группы БСТ2004 Мельникова Елена Михайловна\n",
    "### Рекурсия. Фракталы."
   ]
  },
  {
   "cell_type": "markdown",
   "metadata": {
    "id": "4clYOyb0mbEv"
   },
   "source": [
    "### Задание:\n",
    "Реализовать генерацию заданного типа фрактала с применением рекурсивных функций.\n",
    "\n",
    "\n",
    "Добавить возможность задания глубины фрактала. \n",
    "\n",
    "\n",
    "Оценить глубину рекурсии. \n",
    "\n",
    "\n",
    "Построить таблицу зависимости времени построения от глубины фрактала."
   ]
  },
  {
   "cell_type": "markdown",
   "metadata": {
    "id": "wDXHbUmMmhRL"
   },
   "source": [
    "### Варианты заданий:\n",
    "\n",
    "Вариант | Задание\n",
    ":-------- |:-----\n",
    "1, 7, 13, 19, 25 | Кривая Коха\n",
    "2, 8, 14, 20, 26 | Кривая Гильберта\n",
    "3, 9,15,21,27 | Кривая Серпинского\n",
    "4, 10, 16, 22, 28 | Салфетка Серпинского\n",
    "5, 11, 17, 23, 29| Ковер Серпинского\n",
    "6, 12, 18, 24, 30 | Дерево Пифагора \n"
   ]
  },
  {
   "cell_type": "markdown",
   "metadata": {
    "id": "Wggfn8l7nG72"
   },
   "source": [
    "### Выполнение:"
   ]
  },
  {
   "cell_type": "code",
   "execution_count": null,
   "metadata": {},
   "outputs": [],
   "source": [
    "import turtle as t\n",
    "import time\n",
    "\n",
    "cx = -60 * 5\n",
    "cy = 50 * 5\n",
    "\n",
    "#переходит в координату x y\n",
    "def lineTo(newX, newY):\n",
    "    global cx, cy\n",
    "    t.goto(newX, newY)\n",
    "    cx = newX\n",
    "    cy = newY\n",
    "\n",
    "\n",
    "def lineN():\n",
    "    lineTo(cx, cy - 2 * h)\n",
    "\n",
    "\n",
    "def lineS():\n",
    "    lineTo(cx, cy + 2 * h)\n",
    "\n",
    "\n",
    "def lineE():\n",
    "    lineTo(cx + 2 * h, cy)\n",
    "\n",
    "\n",
    "def lineW():\n",
    "    lineTo(cx - 2 * h, cy)\n",
    "\n",
    "\n",
    "def lineNW():\n",
    "    lineTo(cx - h, cy - h)\n",
    "\n",
    "\n",
    "def lineNE():\n",
    "    lineTo(cx + h, cy - h)\n",
    "\n",
    "\n",
    "def lineSE():\n",
    "    lineTo(cx + h, cy + h)\n",
    "\n",
    "\n",
    "def lineSW():\n",
    "    lineTo(cx - h, cy + h)\n",
    "\n",
    "\n",
    "def sierN(i):\n",
    "    if i == 1:\n",
    "        lineNE()\n",
    "        lineN()\n",
    "        lineNW()\n",
    "    else:\n",
    "        sierN(i - 1)\n",
    "        lineNE()\n",
    "        sierE(i - 1)\n",
    "        lineN()\n",
    "        sierW(i - 1)\n",
    "        lineNW()\n",
    "        sierN(i - 1)\n",
    "\n",
    "\n",
    "def sierE(i):\n",
    "    if i == 1:\n",
    "        lineSE()\n",
    "        lineE()\n",
    "        lineNE()\n",
    "    else:\n",
    "        sierE(i - 1)\n",
    "        lineSE()\n",
    "        sierS(i - 1)\n",
    "        lineE()\n",
    "        sierN(i - 1)\n",
    "        lineNE()\n",
    "        sierE(i - 1)\n",
    "\n",
    "\n",
    "def sierS(i):\n",
    "    if i == 1:\n",
    "        lineSW()\n",
    "        lineS()\n",
    "        lineSE()\n",
    "    else:\n",
    "        sierS(i - 1)\n",
    "        lineSW()\n",
    "        sierW(i - 1)\n",
    "        lineS()\n",
    "        sierE(i - 1)\n",
    "        lineSE()\n",
    "        sierS(i - 1)\n",
    "\n",
    "\n",
    "def sierW(i):\n",
    "    if i == 1:\n",
    "        lineNW()\n",
    "        lineW()\n",
    "        lineSW()\n",
    "    else:\n",
    "        sierW(i - 1)\n",
    "        lineNW()\n",
    "        sierN(i - 1)\n",
    "        lineW()\n",
    "        sierS(i - 1)\n",
    "        lineSW()\n",
    "        sierW(i - 1)\\\n",
    "        \n",
    "def sierpinskiCurve(level):\n",
    "    sierN(level)\n",
    "    lineNE()\n",
    "    sierE(level)\n",
    "    lineSE()\n",
    "    sierS(level)\n",
    "    lineSW()\n",
    "    sierW(level)\n",
    "    lineNW()\n",
    "\n",
    "\n",
    "def main():\n",
    "    A = time.time()\n",
    "    global  h\n",
    "    depth = int(input(\"Введите глубину: \"))\n",
    "    h = int(input(\"Размер шрифта: \"))\n",
    "    t.shape(\"turtle\")\n",
    "    t.penup()\n",
    "    t.setx(cx)\n",
    "    t.sety(cy)\n",
    "    t.pendown()\n",
    "    sierpinskiCurve(depth)\n",
    "    B = time.time() - A\n",
    "    t.exitonclick()\n",
    "    print('%.8f' % B,\"секунд\")\n",
    "\n",
    "\n",
    "\n",
    "if __name__ == \"__main__\":\n",
    "    main()\n"
   ]
  },
  {
   "cell_type": "markdown",
   "metadata": {},
   "source": [
    "Глубина | Время\n",
    ":--- |:-----\n",
    "1 | 1.02\n",
    "2 | 3.92\n",
    "3 | 6.77\n",
    "4 | 19.53\n",
    "5 | 67.34\n",
    "6 | 265.65\n"
   ]
  },
  {
   "attachments": {
    "image.png": {
     "image/png": "[encoded data removed]"
    }
   },
   "cell_type": "markdown",
   "metadata": {},
   "source": [
    "\n",
    "![image.png](attachment:image.png)"
   ]
  }
 ],
 "metadata": {
  "colab": {
   "collapsed_sections": [],
   "name": "Lab5.ipynb",
   "provenance": []
  },
  "kernelspec": {
   "display_name": "Python 3 (ipykernel)",
   "language": "python",
   "name": "python3"
  },
  "language_info": {
   "codemirror_mode": {
    "name": "ipython",
    "version": 3
   },
   "file_extension": ".py",
   "mimetype": "text/x-python",
   "name": "python",
   "nbconvert_exporter": "python",
   "pygments_lexer": "ipython3",
   "version": "3.9.7"
  }
 },
 "nbformat": 4,
 "nbformat_minor": 1
}
